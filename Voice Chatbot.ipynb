{
 "cells": [
  {
   "cell_type": "markdown",
   "id": "c4a45026-caca-4f3e-a0d8-beb86f12a343",
   "metadata": {},
   "source": [
    "### Project - Voice-enabled Chatbot\n",
    "The project is designed to create a voice-based chatbot using speech recognition and text-to-speech synthesis to interact with users. It combines the \n",
    "following technologies:\n",
    "\n",
    "#### Speech Recognition (ASR - Automatic Speech Recognition):\n",
    "\n",
    "- Converts spoken input from the user into text.\n",
    "\n",
    "- The chatbot listens to the user's voice, processes it, and understands the command or query.\n",
    "\n",
    "- Word2Vec (Word Embedding model):\n",
    "\n",
    "- Used to represent words in vector form, allowing the bot to understand the similarity between words and their meanings.\n",
    "\n",
    "- By training the chatbot with word vectors, it improves the understanding of user input beyond simple keyword matching, enabling more context-aware conversations.\n",
    "\n",
    "### Natural Language Processing (NLP):\n",
    "\n",
    "- Analyzes the text input to understand the intent behind the user's request (e.g., asking for the time, telling a joke, etc.).\n",
    "\n",
    "- NLP helps the chatbot map user input to a specific intent, allowing it to choose an appropriate response.\n",
    "\n",
    "#### Text-to-Speech (TTS):\n",
    "\n",
    "- Converts the text response from the chatbot back into speech, so the user can hear the response instead of reading it.\n",
    "\n"
   ]
  },
  {
   "cell_type": "markdown",
   "id": "279819fa-1a63-4a05-9851-b8e766046cd4",
   "metadata": {},
   "source": [
    "###### A voice chatbot is a type of conversational AI that uses speech recognition (to understand spoken input) and text-to-speech (TTS) synthesis (to generate spoken output) to interact with users in a voice-based format. Unlike text chatbots, which rely on typed text input and output, a voice chatbot allows users to speak to the bot and hear its responses, making the interaction more natural and hands-free."
   ]
  },
  {
   "cell_type": "markdown",
   "id": "066cc18b-e81a-48ff-bc86-78476678e50c",
   "metadata": {},
   "source": [
    "### Key Components of a Voice Chatbot:\n",
    "##### Speech Recognition (ASR):\n",
    "\n",
    "- Converts spoken words (from the user) into text.\n",
    "\n",
    "- This step involves recognizing the speech input (audio) and translating it into written language.\n",
    "\n",
    "- Example: The user says \"What's the weather today?\" → the system converts this to text.\n",
    "\n",
    "#### Natural Language Processing (NLP):\n",
    "\n",
    "- The core of the chatbot that processes the text input to understand the user's intent and context.\n",
    "\n",
    "- The chatbot determines what the user wants to do based on keywords or meanings from the speech input.\n",
    "\n",
    "- This includes identifying intents (e.g., asking for the weather, requesting a joke, etc.).\n",
    "\n",
    "#### Text Generation:\n",
    "\n",
    "- The chatbot generates an appropriate text response based on the user's intent.\n",
    "\n",
    "#### Text-to-Speech (TTS):\n",
    "\n",
    "- Converts the text response into speech so the user can hear the chatbot's reply.\n",
    "\n",
    "- The TTS engine plays the chatbot's response through the speakers or headphones.\n",
    "\n"
   ]
  },
  {
   "cell_type": "markdown",
   "id": "82a086f4-a168-49aa-99a8-c1f1fd222fcb",
   "metadata": {},
   "source": [
    "#### How Voice Chatbots Work:\n",
    "- User speaks to the chatbot.\n",
    "\n",
    "- The speech recognition system converts the user's spoken words into text.\n",
    "\n",
    "- The NLP model processes the text to understand the intent (e.g., \"Tell me a joke\" or \"What's the time?\").\n",
    "\n",
    "- The chatbot responds with a generated text reply (e.g., \"Here's a joke: Why don't scientists trust atoms?\").\n",
    "\n",
    "- The text-to-speech system reads the chatbot’s response out loud to the user."
   ]
  },
  {
   "cell_type": "code",
   "execution_count": 5,
   "id": "cb547d90-c1c2-4c24-98ea-d296bc77fa2a",
   "metadata": {},
   "outputs": [
    {
     "name": "stdout",
     "output_type": "stream",
     "text": [
      "Requirement already satisfied: pyttsx3 in f:\\anaconda\\lib\\site-packages (2.98)\n",
      "Requirement already satisfied: comtypes in f:\\anaconda\\lib\\site-packages (from pyttsx3) (1.4.10)\n",
      "Requirement already satisfied: pypiwin32 in f:\\anaconda\\lib\\site-packages (from pyttsx3) (223)\n",
      "Requirement already satisfied: pywin32 in f:\\anaconda\\lib\\site-packages (from pyttsx3) (305.1)\n"
     ]
    }
   ],
   "source": [
    "!pip install pyttsx3\n",
    "\n",
    "# Use: pyttsx3 is a Text-to-Speech (TTS) library in Python. It is used to convert text \n",
    "# (which the chatbot generates as a response) into speech (audio). The library uses various speech engines based\n",
    "# on your system (SAPI5 on Windows, NSSpeechSynthesizer on macOS, and espeak on Linux).\n",
    "\n",
    "\n"
   ]
  },
  {
   "cell_type": "code",
   "execution_count": 6,
   "id": "efa01354-f63b-4dff-ba76-c3ce426acf67",
   "metadata": {},
   "outputs": [
    {
     "name": "stdout",
     "output_type": "stream",
     "text": [
      "Requirement already satisfied: SpeechRecognition in f:\\anaconda\\lib\\site-packages (3.14.2)\n",
      "Requirement already satisfied: typing-extensions in f:\\anaconda\\lib\\site-packages (from SpeechRecognition) (4.11.0)\n"
     ]
    }
   ],
   "source": [
    "!pip install SpeechRecognition\n",
    "\n",
    "# Use: SpeechRecognition is a library that helps convert spoken language (audio input from the user) into text. \n",
    "# It supports different speech recognition engines like Google Web Speech API, CMU Sphinx, etc. This is used \n",
    "# to listen to what the user says and convert that audio into text, which is then processed by the chatbot to determine the user's intent."
   ]
  },
  {
   "cell_type": "code",
   "execution_count": null,
   "id": "9d2897fd-e96a-4dcd-8900-b713d67fb767",
   "metadata": {},
   "outputs": [],
   "source": []
  },
  {
   "cell_type": "code",
   "execution_count": 7,
   "id": "333d1942-dab7-45dd-9c62-5d66571fbddb",
   "metadata": {},
   "outputs": [
    {
     "name": "stdout",
     "output_type": "stream",
     "text": [
      "Requirement already satisfied: pyaudio in f:\\anaconda\\lib\\site-packages (0.2.14)\n"
     ]
    }
   ],
   "source": [
    "!pip install pyaudio\n",
    "\n",
    "# PyAudio is a cross-platform audio input/output library that provides easy-to-use methods \n",
    "# to interact with microphones and speakers. It is particularly useful \n",
    "# when building applications that involve audio input or output, such as voice chatbots or voice assistants.\n",
    "\n",
    "# Audio Input (Microphone):\n",
    "\n",
    "# PyAudio allows your Python program to capture audio from a microphone. This is essential for voice \n",
    "# chatbots or voice-controlled applications that need to listen to and recognize the user's speech.\n",
    "\n",
    "# In the context of a voice chatbot, PyAudio is used by the SpeechRecognition library to listen to the user's spoken input.\n",
    "\n",
    "# Audio Output (Speakers):\n",
    "\n",
    "# PyAudio can also be used to play sound through speakers, though it is not as commonly used for output in \n",
    "# chatbot applications. For text-to-speech, libraries like pyttsx3 are used instead, which may internally rely on PyAudio for playing the audio.\n",
    "\n",
    "# Real-time Audio Processing:\n",
    "\n",
    "# PyAudio can be used for applications that require real-time audio processing, such as live voice communication or audio recording.\n",
    "\n",
    "\n"
   ]
  },
  {
   "cell_type": "code",
   "execution_count": null,
   "id": "105611f8-c678-4b74-877a-f3d5aec96cfa",
   "metadata": {},
   "outputs": [],
   "source": []
  },
  {
   "cell_type": "code",
   "execution_count": 8,
   "id": "fbcec5eb-dd75-4d52-87f5-d062fd553599",
   "metadata": {},
   "outputs": [],
   "source": [
    "import datetime  # Importing datetime module to get current time\n",
    "import random  # Importing random module to randomly select jokes\n",
    "from gensim.models import Word2Vec  # Importing Word2Vec from gensim library for word embeddings\n",
    "import pyttsx3  # Importing pyttsx3 for text-to-speech conversion\n",
    "import speech_recognition as sr  # Importing speech recognition for converting speech to text"
   ]
  },
  {
   "cell_type": "code",
   "execution_count": 9,
   "id": "c8039d17-d723-4017-953f-547354563463",
   "metadata": {},
   "outputs": [],
   "source": [
    "# Sample training data for Word2Vec\n",
    "training_sentences = [\n",
    "    [\"hello\", \"hi\", \"greetings\"],\n",
    "    [\"time\", \"clock\", \"hours\"],\n",
    "    [\"joke\", \"funny\", \"laugh\"],\n",
    "    [\"name\", \"identity\", \"who\"],\n",
    "    [\"bye\", \"goodbye\", \"see\", \"later\"]\n",
    "]\n"
   ]
  },
  {
   "cell_type": "code",
   "execution_count": 10,
   "id": "49b2d699-f9c8-401b-a2a2-d1deae4a1895",
   "metadata": {},
   "outputs": [],
   "source": [
    "# Train Word2Vec model on the sample sentences\n",
    "model = Word2Vec(sentences=training_sentences, vector_size=50, window=5, min_count=1, workers=1)"
   ]
  },
  {
   "cell_type": "code",
   "execution_count": 11,
   "id": "c38f6d86-d6bb-4ec8-9585-d6e0013c8e59",
   "metadata": {},
   "outputs": [],
   "source": [
    "def get_time():\n",
    "    now = datetime.datetime.now()  # Get the current datetime\n",
    "    return now.strftime(\"%H:%M\")  # Return time in HH:MM format\n",
    "\n",
    "def tell_joke():\n",
    "    jokes = [\n",
    "        \"Why don't scientists trust atoms? Because they make up everything!\",\n",
    "        \"Why did the math book look sad? Because it had too many problems.\",\n",
    "        \"I'm reading a book about anti-gravity. It's impossible to put down!\"\n",
    "    ]\n",
    "    return random.choice(jokes)  # Randomly return one joke\n",
    "\n",
    "def find_intent(user_input):\n",
    "    user_input = user_input.lower()  # Convert input to lowercase for consistency\n",
    "    words = user_input.split()  # Split the input into individual words\n",
    "\n",
    "    # Define intents and their associated keywords\n",
    "    intents = {\n",
    "        \"greeting\": [\"hello\", \"hi\", \"hey\"],\n",
    "        \"time\": [\"time\", \"clock\", \"hours\"],\n",
    "        \"joke\": [\"joke\", \"funny\", \"laugh\"],\n",
    "        \"name\": [\"name\", \"identity\", \"who\"],\n",
    "        \"bye\": [\"bye\", \"goodbye\", \"see\", \"later\"]\n",
    "    }\n",
    "\n",
    "    scores = {intent: 0 for intent in intents}  # Initialize intent scores\n",
    "\n",
    "    for word in words:\n",
    "        if word not in model.wv:  # Skip if word not in vocabulary\n",
    "            continue\n",
    "        for intent, keywords in intents.items():  # Loop through each intent and its keywords\n",
    "            for keyword in keywords:\n",
    "                if keyword in model.wv:  # Ensure keyword exists in vocabulary\n",
    "                    similarity = model.wv.similarity(word, keyword)  # Calculate similarity\n",
    "                    scores[intent] += similarity  # Accumulate similarity score for intent\n",
    "\n",
    "    best_intent = max(scores, key=scores.get)  # Get intent with highest score\n",
    "    if scores[best_intent] > 0.3:  # Threshold to decide if intent is valid\n",
    "        return best_intent\n",
    "    else:\n",
    "        return None  # Return None if no intent is confidently matched\n",
    "\n",
    "def simple_chatbot(user_input):\n",
    "    intent = find_intent(user_input)  # Find the intent based on user input\n",
    "\n",
    "    if intent == \"greeting\":\n",
    "        return \"Hello! How can I help you today?\"  # Respond to greetings\n",
    "    elif intent == \"time\":\n",
    "        return f\"The current time is {get_time()}\"  # Respond with current time\n",
    "    elif intent == \"joke\":\n",
    "        return tell_joke()  # Respond with a joke\n",
    "    elif intent == \"name\":\n",
    "        return \"I'm your friendly chatbot!\"  # Respond with bot's name\n",
    "    elif intent == \"bye\":\n",
    "        return \"Goodbye! Have a great day!\"  # Respond to goodbyes\n",
    "    else:\n",
    "        return \"I'm sorry, I don't understand that yet. Can you try asking something else?\"  # Fallback response\n",
    "\n",
    "# Function for voice output (Text to Speech)\n",
    "def speak(text):\n",
    "    engine = pyttsx3.init()  # Initialize TTS engine\n",
    "    engine.say(text)  # Convert text to speech\n",
    "    engine.runAndWait()  # Wait for speech to finish\n",
    "\n",
    "# Function to listen to user input (Speech to Text)\n",
    "def listen():\n",
    "    recognizer = sr.Recognizer()  # Initialize recognizer\n",
    "    with sr.Microphone() as source:  # Use the microphone as the audio source\n",
    "        print(\"Listening...\")  # Prompt for user to speak\n",
    "        audio = recognizer.listen(source)  # Capture the user's speech\n",
    "        try:\n",
    "            print(\"Recognizing...\")  # Inform user that we are processing the speech\n",
    "            user_input = recognizer.recognize_google(audio)  # Convert speech to text using Google API\n",
    "            print(f\"You said: {user_input}\")  # Display recognized text\n",
    "            return user_input\n",
    "        except sr.UnknownValueError:\n",
    "            print(\"Sorry, I could not understand that.\")  # If speech is not clear\n",
    "            return \"\"\n",
    "        except sr.RequestError:\n",
    "            print(\"Sorry, the speech recognition service is down.\")  # If API request fails\n",
    "            return \"\"\n",
    "\n"
   ]
  },
  {
   "cell_type": "code",
   "execution_count": 12,
   "id": "6d5d4243-1c29-4fd7-b77d-165e6f63d9ab",
   "metadata": {},
   "outputs": [
    {
     "name": "stdout",
     "output_type": "stream",
     "text": [
      "Chatbot is running! Speak 'bye' to exit.\n",
      "Listening...\n",
      "Recognizing...\n",
      "Sorry, I could not understand that.\n",
      "Bot: I'm sorry, I don't understand that yet. Can you try asking something else?\n",
      "Listening...\n",
      "Recognizing...\n",
      "You said: hello\n",
      "Bot: Hello! How can I help you today?\n",
      "Listening...\n",
      "Recognizing...\n",
      "Sorry, I could not understand that.\n",
      "Bot: I'm sorry, I don't understand that yet. Can you try asking something else?\n",
      "Listening...\n",
      "Recognizing...\n",
      "You said: bye-bye\n"
     ]
    }
   ],
   "source": [
    "# --- Main Loop ---\n",
    "if __name__ == \"__main__\":\n",
    "    print(\"Chatbot is running! Speak 'bye' to exit.\")  # Initial message when bot starts\n",
    "    speak(\"Chatbot is running! Speak 'bye' to exit.\")  # Voice output\n",
    "    while True:\n",
    "        user_input = listen()  # Listen for user's voice input\n",
    "        if \"bye\" in user_input.lower():  # Exit loop if user says 'bye'\n",
    "            speak(\"Goodbye! Have a great day!\")  # Voice output for goodbye\n",
    "            break\n",
    "        response = simple_chatbot(user_input)  # Generate chatbot response\n",
    "        print(f\"Bot: {response}\")  # Print the response\n",
    "        speak(response)  # Convert response to speech and play it\n"
   ]
  },
  {
   "cell_type": "code",
   "execution_count": null,
   "id": "fe99c77e-2317-4e8d-b9fe-57d202884de4",
   "metadata": {},
   "outputs": [],
   "source": []
  }
 ],
 "metadata": {
  "kernelspec": {
   "display_name": "Python [conda env:Anaconda]",
   "language": "python",
   "name": "conda-env-Anaconda-py"
  },
  "language_info": {
   "codemirror_mode": {
    "name": "ipython",
    "version": 3
   },
   "file_extension": ".py",
   "mimetype": "text/x-python",
   "name": "python",
   "nbconvert_exporter": "python",
   "pygments_lexer": "ipython3",
   "version": "3.12.7"
  }
 },
 "nbformat": 4,
 "nbformat_minor": 5
}
