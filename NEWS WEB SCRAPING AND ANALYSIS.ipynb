{
 "cells": [
  {
   "cell_type": "code",
   "execution_count": 2,
   "id": "e45756fd-1edc-4854-a3a6-e52ed189489f",
   "metadata": {},
   "outputs": [],
   "source": [
    "import requests\n",
    "from bs4 import BeautifulSoup\n",
    "import nltk\n",
    "from nltk.tokenize import word_tokenize,sent_tokenize\n",
    "from nltk.corpus import stopwords\n",
    "from collections import Counter\n",
    "import matplotlib.pyplot as plt"
   ]
  },
  {
   "cell_type": "code",
   "execution_count": 3,
   "id": "a45ed461-69fa-416a-833d-29c996cda02e",
   "metadata": {},
   "outputs": [
    {
     "name": "stderr",
     "output_type": "stream",
     "text": [
      "[nltk_data] Downloading package punkt to C:\\Users\\RITI\n",
      "[nltk_data]     RAI\\AppData\\Roaming\\nltk_data...\n",
      "[nltk_data]   Package punkt is already up-to-date!\n",
      "[nltk_data] Downloading package stopwords to C:\\Users\\RITI\n",
      "[nltk_data]     RAI\\AppData\\Roaming\\nltk_data...\n",
      "[nltk_data]   Package stopwords is already up-to-date!\n"
     ]
    },
    {
     "data": {
      "text/plain": [
       "True"
      ]
     },
     "execution_count": 3,
     "metadata": {},
     "output_type": "execute_result"
    }
   ],
   "source": [
    "#download required nltk data files\n",
    "nltk.download(\"punkt\")\n",
    "nltk.download(\"stopwords\")"
   ]
  },
  {
   "cell_type": "code",
   "execution_count": 4,
   "id": "c02f737a-0285-4343-bd16-b28b2013ba1e",
   "metadata": {},
   "outputs": [],
   "source": [
    "def scrape_news_article(url):\n",
    "    response = requests.get(url)#send requests to the new website\n",
    "    if response.status_code != 200:\n",
    "        print(\"failed to retrieve the webpage.\")\n",
    "        return \"\"\n",
    "\n",
    "    soup= BeautifulSoup(response.text,'html.parser')#parse the html content\n",
    "    paragraph=soup.find_all('p')#extract all paragraph tags\n",
    "    article_text=' '.join([para.get_text()for para in paragraph])#combine all paragraph\n",
    "    return article_text"
   ]
  },
  {
   "cell_type": "code",
   "execution_count": 6,
   "id": "ada9e16a-9c94-48c8-9787-4f2a9db234ef",
   "metadata": {},
   "outputs": [],
   "source": [
    "def preprocess_text(text):\n",
    "    \"\"\"tokenize the text and remove stopwords\"\"\"\n",
    "    word_tokens=word_tokenize(text)#tokenize the text into words\n",
    "    stop_words= set(stopwords.words('english'))#load nltk's list of stopwords\n",
    "#REMOVE STOP WORDS AND NON ALPHABETIC WORDS\n",
    "    filtered_words=[word.lower()for word in word_tokens if word.isalpha()and word.lower() not in stop_words]\n",
    "    return filtered_words\n",
    "    "
   ]
  },
  {
   "cell_type": "code",
   "execution_count": 10,
   "id": "8c66116f-7f2f-453e-8339-cb94025e0c11",
   "metadata": {},
   "outputs": [],
   "source": [
    "def extract_top_keywords(filtered_words,top_n=10):\n",
    "    \"\"\"extract the most common words from processed text\"\"\"\n",
    "    word_freq=Counter(filtered_words)#count the words\n",
    "    return word_freq.most_common(top_n)#return top 'n' most common word"
   ]
  },
  {
   "cell_type": "code",
   "execution_count": 14,
   "id": "0750a8fd-db56-45db-a3df-52364e1e366e",
   "metadata": {},
   "outputs": [],
   "source": [
    "def summarize_text(text,num_sentences=3):\n",
    "    sentences=sent_tokenize(text)#tokenize into sentences\n",
    "    return' '.join(sentences[:num_sentences])#return the first'num_sentences'sentences"
   ]
  },
  {
   "cell_type": "code",
   "execution_count": 18,
   "id": "836fe0b5-b422-4a05-8351-ff9228eee571",
   "metadata": {},
   "outputs": [],
   "source": [
    "def plot_word_frequencies(word_freq):\n",
    "    \"\"\"plot the frequency of top words as a bar chart.\"\"\"\n",
    "    words,counts= zip(*word_freq)#extract words and their counts\n",
    "    plt.figure(figsize=(10,5))\n",
    "    plt.bar(words,counts,color='blue')\n",
    "    plt.xlabel('words')\n",
    "    plt.ylabel('frequency')\n",
    "    plt.title('top frequenciesin new article')\n",
    "    plt.xticks(rotation=45)\n",
    "    plt.show()"
   ]
  },
  {
   "cell_type": "code",
   "execution_count": 20,
   "id": "cba50bb8-cc47-4f72-aed6-b6f20d7dafa7",
   "metadata": {},
   "outputs": [
    {
     "name": "stdout",
     "output_type": "stream",
     "text": [
      "\n",
      "Original Article summmary\n",
      " Waqf amendment bill आज लोकसभा में पेश किया जा रहा है. नरेंद्र मोदी सरकार इस बिल को आज लोकसभा पास कराना चाहती है. बिल के प्रावधानों पर विस्तार से विचार किए बिने कई मुस्लिम संगठन आधारहीन आशंकाएं जता रहे हैं... 'हमारी पार्टी वक्फ बिल का विरोध करेगी', बोले सपा नेता रामगोपाल यादव बैटमैन का किरदार निभाने वाली हॉलीवुड अभिनेता वैल किल्मर का निधन गाजियाबाद में BJP और RSS की समन्वय बैठक आज, CM योगी आदित्यनाथ होंगे शामिल महाराष्ट्र के बुलढाणा जिले में सड़क हादसा, 5 लोगों की मौत उत्तराखंड सरकार ने सायरा बानो को बनाया राज्य महिला आयोग का उपाध्यक्ष अमेरिका ने ईरान के UAV, बैलिस्टिक मिसाइल कार्यक्रमों पर लगाया बैन ब्रिटेन ने यूरोपीय पर्यटकों के लिए बदले नियम, अब एंट्री से पहले लेना होगा ई-परमिट गुरुग्राम के इंडस्ट्रियल एरिया के गोदाम में भयानक आग, अन्य जिलों से मंगाई गई दमकल गाड़ियां अमेरिका में टिकटॉक बैन की समय सीमा करीब, ट्रंप आज अंतिम प्रस्ताव पर करेंगे समीक्षा हरियाणा में महंगी हुई बिजली, HERC ने 2025-26 के लिए टैरिफ बढ़ाया, दरों में 20 पैसे तक की वृद्धि IPS काम्या मिश्रा ने 28 साल की उम्र में क्यों छोड़ी सर्विस?\n",
      "\n",
      "Most common keywords:\n",
      "[('न', 11), ('पर', 8), ('समय', 6), ('आज', 4), ('नए', 4), ('धन', 4), ('इस', 2), ('गई', 2), ('घर', 2), ('waqf', 1)]\n"
     ]
    },
    {
     "name": "stderr",
     "output_type": "stream",
     "text": [
      "C:\\ProgramData\\anaconda3\\Lib\\site-packages\\IPython\\core\\pylabtools.py:170: UserWarning: Glyph 2344 (\\N{DEVANAGARI LETTER NA}) missing from current font.\n",
      "  fig.canvas.print_figure(bytes_io, **kw)\n",
      "C:\\ProgramData\\anaconda3\\Lib\\site-packages\\IPython\\core\\pylabtools.py:170: UserWarning: Matplotlib currently does not support Devanagari natively.\n",
      "  fig.canvas.print_figure(bytes_io, **kw)\n",
      "C:\\ProgramData\\anaconda3\\Lib\\site-packages\\IPython\\core\\pylabtools.py:170: UserWarning: Glyph 2346 (\\N{DEVANAGARI LETTER PA}) missing from current font.\n",
      "  fig.canvas.print_figure(bytes_io, **kw)\n",
      "C:\\ProgramData\\anaconda3\\Lib\\site-packages\\IPython\\core\\pylabtools.py:170: UserWarning: Glyph 2352 (\\N{DEVANAGARI LETTER RA}) missing from current font.\n",
      "  fig.canvas.print_figure(bytes_io, **kw)\n",
      "C:\\ProgramData\\anaconda3\\Lib\\site-packages\\IPython\\core\\pylabtools.py:170: UserWarning: Glyph 2360 (\\N{DEVANAGARI LETTER SA}) missing from current font.\n",
      "  fig.canvas.print_figure(bytes_io, **kw)\n",
      "C:\\ProgramData\\anaconda3\\Lib\\site-packages\\IPython\\core\\pylabtools.py:170: UserWarning: Glyph 2350 (\\N{DEVANAGARI LETTER MA}) missing from current font.\n",
      "  fig.canvas.print_figure(bytes_io, **kw)\n",
      "C:\\ProgramData\\anaconda3\\Lib\\site-packages\\IPython\\core\\pylabtools.py:170: UserWarning: Glyph 2351 (\\N{DEVANAGARI LETTER YA}) missing from current font.\n",
      "  fig.canvas.print_figure(bytes_io, **kw)\n",
      "C:\\ProgramData\\anaconda3\\Lib\\site-packages\\IPython\\core\\pylabtools.py:170: UserWarning: Glyph 2310 (\\N{DEVANAGARI LETTER AA}) missing from current font.\n",
      "  fig.canvas.print_figure(bytes_io, **kw)\n",
      "C:\\ProgramData\\anaconda3\\Lib\\site-packages\\IPython\\core\\pylabtools.py:170: UserWarning: Glyph 2332 (\\N{DEVANAGARI LETTER JA}) missing from current font.\n",
      "  fig.canvas.print_figure(bytes_io, **kw)\n",
      "C:\\ProgramData\\anaconda3\\Lib\\site-packages\\IPython\\core\\pylabtools.py:170: UserWarning: Glyph 2319 (\\N{DEVANAGARI LETTER E}) missing from current font.\n",
      "  fig.canvas.print_figure(bytes_io, **kw)\n",
      "C:\\ProgramData\\anaconda3\\Lib\\site-packages\\IPython\\core\\pylabtools.py:170: UserWarning: Glyph 2343 (\\N{DEVANAGARI LETTER DHA}) missing from current font.\n",
      "  fig.canvas.print_figure(bytes_io, **kw)\n",
      "C:\\ProgramData\\anaconda3\\Lib\\site-packages\\IPython\\core\\pylabtools.py:170: UserWarning: Glyph 2311 (\\N{DEVANAGARI LETTER I}) missing from current font.\n",
      "  fig.canvas.print_figure(bytes_io, **kw)\n",
      "C:\\ProgramData\\anaconda3\\Lib\\site-packages\\IPython\\core\\pylabtools.py:170: UserWarning: Glyph 2327 (\\N{DEVANAGARI LETTER GA}) missing from current font.\n",
      "  fig.canvas.print_figure(bytes_io, **kw)\n",
      "C:\\ProgramData\\anaconda3\\Lib\\site-packages\\IPython\\core\\pylabtools.py:170: UserWarning: Glyph 2312 (\\N{DEVANAGARI LETTER II}) missing from current font.\n",
      "  fig.canvas.print_figure(bytes_io, **kw)\n",
      "C:\\ProgramData\\anaconda3\\Lib\\site-packages\\IPython\\core\\pylabtools.py:170: UserWarning: Glyph 2328 (\\N{DEVANAGARI LETTER GHA}) missing from current font.\n",
      "  fig.canvas.print_figure(bytes_io, **kw)\n"
     ]
    },
    {
     "data": {
      "image/png": "[encoded data removed]",
      "text/plain": [
       "<Figure size 1000x500 with 1 Axes>"
      ]
     },
     "metadata": {},
     "output_type": "display_data"
    }
   ],
   "source": [
    "#example new articles url(change this toa real news url)\n",
    "news_url=\"https://www.aajtak.in/\"\n",
    "article_text=scrape_news_article(news_url)\n",
    "\n",
    "if article_text:\n",
    "    print(\"\\nOriginal Article summmary\")\n",
    "    print(summarize_text(article_text))#print the article summary\n",
    "\n",
    "    filtered_words=preprocess_text(article_text)#process text\n",
    "    top_keywords=extract_top_keywords(filtered_words)#extract keywords\n",
    "\n",
    "    print(\"\\nMost common keywords:\")\n",
    "    print(top_keywords)#Display most frequent words\n",
    "\n",
    "    plot_word_frequencies(top_keywords)#Visualize word frequencies\n",
    "else:\n",
    "    print(\"no text extracted\")\n"
   ]
  },
  {
   "cell_type": "code",
   "execution_count": null,
   "id": "b42a4e39-9ff1-4f3a-a330-318757a0d2e7",
   "metadata": {},
   "outputs": [],
   "source": []
  }
 ],
 "metadata": {
  "kernelspec": {
   "display_name": "Python 3 (ipykernel)",
   "language": "python",
   "name": "python3"
  },
  "language_info": {
   "codemirror_mode": {
    "name": "ipython",
    "version": 3
   },
   "file_extension": ".py",
   "mimetype": "text/x-python",
   "name": "python",
   "nbconvert_exporter": "python",
   "pygments_lexer": "ipython3",
   "version": "3.12.4"
  }
 },
 "nbformat": 4,
 "nbformat_minor": 5
}
